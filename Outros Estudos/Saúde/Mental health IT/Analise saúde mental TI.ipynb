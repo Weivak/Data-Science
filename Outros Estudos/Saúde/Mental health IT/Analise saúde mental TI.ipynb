{
 "cells": [
  {
   "cell_type": "code",
   "execution_count": 1,
   "metadata": {},
   "outputs": [],
   "source": [
    "import pandas as pd\n",
    "import sqlite3\n",
    "\n",
    "# Read sqlite query results into a pandas DataFrame\n",
    "con = sqlite3.connect(\"Dados/mental_health.sqlite\")\n",
    "df_question = pd.read_sql_query(\"SELECT * from Question\", con)\n",
    "df_answer = pd.read_sql_query(\"SELECT * from Answer\", con)\n",
    "\n",
    "con.close()\n"
   ]
  },
  {
   "cell_type": "code",
   "execution_count": 2,
   "metadata": {},
   "outputs": [
    {
     "data": {
      "text/plain": [
       "[                AnswerText  SurveyID  UserID  QuestionID\n",
       " 0                       37      2014       1           1\n",
       " 1                       44      2014       2           1\n",
       " 2                       32      2014       3           1\n",
       " 3                       31      2014       4           1\n",
       " 4                       31      2014       5           1\n",
       " ...                    ...       ...     ...         ...\n",
       " 236893               Other      2016    2689         117\n",
       " 236894             Support      2016    2690         117\n",
       " 236895  Back-end Developer      2016    2691         117\n",
       " 236896     DevOps/SysAdmin      2016    2692         117\n",
       " 236897               Other      2016    2693         117\n",
       " \n",
       " [236898 rows x 4 columns],\n",
       "                                           questiontext  QuestionID\n",
       " 0                                    What is your age?           1\n",
       " 1                                 What is your gender?           2\n",
       " 2                         What country do you live in?           3\n",
       " 3    If you live in the United States, which state ...           4\n",
       " 4                               Are you self-employed?           5\n",
       " ..                                                 ...         ...\n",
       " 100  Do you think that team members/co-workers woul...         114\n",
       " 101  If yes, what condition(s) have you been diagno...         115\n",
       " 102  If maybe, what condition(s) do you believe you...         116\n",
       " 103  Which of the following best describes your wor...         117\n",
       " 104                              Do you work remotely?         118\n",
       " \n",
       " [105 rows x 2 columns]]"
      ]
     },
     "execution_count": 2,
     "metadata": {},
     "output_type": "execute_result"
    }
   ],
   "source": [
    "\n",
    "df_question = df_question.rename(columns={'questionid':'QuestionID'})\n",
    "\n",
    "frames = [df_answer, df_question]\n",
    "frames"
   ]
  },
  {
   "cell_type": "code",
   "execution_count": 3,
   "metadata": {},
   "outputs": [],
   "source": [
    "df = pd.merge(df_answer, df_question)"
   ]
  },
  {
   "cell_type": "code",
   "execution_count": 4,
   "metadata": {},
   "outputs": [
    {
     "data": {
      "text/html": [
       "<div>\n",
       "<style scoped>\n",
       "    .dataframe tbody tr th:only-of-type {\n",
       "        vertical-align: middle;\n",
       "    }\n",
       "\n",
       "    .dataframe tbody tr th {\n",
       "        vertical-align: top;\n",
       "    }\n",
       "\n",
       "    .dataframe thead th {\n",
       "        text-align: right;\n",
       "    }\n",
       "</style>\n",
       "<table border=\"1\" class=\"dataframe\">\n",
       "  <thead>\n",
       "    <tr style=\"text-align: right;\">\n",
       "      <th></th>\n",
       "      <th>AnswerText</th>\n",
       "      <th>SurveyID</th>\n",
       "      <th>UserID</th>\n",
       "      <th>QuestionID</th>\n",
       "      <th>questiontext</th>\n",
       "    </tr>\n",
       "  </thead>\n",
       "  <tbody>\n",
       "    <tr>\n",
       "      <th>0</th>\n",
       "      <td>37</td>\n",
       "      <td>2014</td>\n",
       "      <td>1</td>\n",
       "      <td>1</td>\n",
       "      <td>What is your age?</td>\n",
       "    </tr>\n",
       "    <tr>\n",
       "      <th>1</th>\n",
       "      <td>44</td>\n",
       "      <td>2014</td>\n",
       "      <td>2</td>\n",
       "      <td>1</td>\n",
       "      <td>What is your age?</td>\n",
       "    </tr>\n",
       "    <tr>\n",
       "      <th>2</th>\n",
       "      <td>32</td>\n",
       "      <td>2014</td>\n",
       "      <td>3</td>\n",
       "      <td>1</td>\n",
       "      <td>What is your age?</td>\n",
       "    </tr>\n",
       "    <tr>\n",
       "      <th>3</th>\n",
       "      <td>31</td>\n",
       "      <td>2014</td>\n",
       "      <td>4</td>\n",
       "      <td>1</td>\n",
       "      <td>What is your age?</td>\n",
       "    </tr>\n",
       "    <tr>\n",
       "      <th>4</th>\n",
       "      <td>31</td>\n",
       "      <td>2014</td>\n",
       "      <td>5</td>\n",
       "      <td>1</td>\n",
       "      <td>What is your age?</td>\n",
       "    </tr>\n",
       "    <tr>\n",
       "      <th>...</th>\n",
       "      <td>...</td>\n",
       "      <td>...</td>\n",
       "      <td>...</td>\n",
       "      <td>...</td>\n",
       "      <td>...</td>\n",
       "    </tr>\n",
       "    <tr>\n",
       "      <th>236893</th>\n",
       "      <td>Other</td>\n",
       "      <td>2016</td>\n",
       "      <td>2689</td>\n",
       "      <td>117</td>\n",
       "      <td>Which of the following best describes your wor...</td>\n",
       "    </tr>\n",
       "    <tr>\n",
       "      <th>236894</th>\n",
       "      <td>Support</td>\n",
       "      <td>2016</td>\n",
       "      <td>2690</td>\n",
       "      <td>117</td>\n",
       "      <td>Which of the following best describes your wor...</td>\n",
       "    </tr>\n",
       "    <tr>\n",
       "      <th>236895</th>\n",
       "      <td>Back-end Developer</td>\n",
       "      <td>2016</td>\n",
       "      <td>2691</td>\n",
       "      <td>117</td>\n",
       "      <td>Which of the following best describes your wor...</td>\n",
       "    </tr>\n",
       "    <tr>\n",
       "      <th>236896</th>\n",
       "      <td>DevOps/SysAdmin</td>\n",
       "      <td>2016</td>\n",
       "      <td>2692</td>\n",
       "      <td>117</td>\n",
       "      <td>Which of the following best describes your wor...</td>\n",
       "    </tr>\n",
       "    <tr>\n",
       "      <th>236897</th>\n",
       "      <td>Other</td>\n",
       "      <td>2016</td>\n",
       "      <td>2693</td>\n",
       "      <td>117</td>\n",
       "      <td>Which of the following best describes your wor...</td>\n",
       "    </tr>\n",
       "  </tbody>\n",
       "</table>\n",
       "<p>236898 rows × 5 columns</p>\n",
       "</div>"
      ],
      "text/plain": [
       "                AnswerText  SurveyID  UserID  QuestionID  \\\n",
       "0                       37      2014       1           1   \n",
       "1                       44      2014       2           1   \n",
       "2                       32      2014       3           1   \n",
       "3                       31      2014       4           1   \n",
       "4                       31      2014       5           1   \n",
       "...                    ...       ...     ...         ...   \n",
       "236893               Other      2016    2689         117   \n",
       "236894             Support      2016    2690         117   \n",
       "236895  Back-end Developer      2016    2691         117   \n",
       "236896     DevOps/SysAdmin      2016    2692         117   \n",
       "236897               Other      2016    2693         117   \n",
       "\n",
       "                                             questiontext  \n",
       "0                                       What is your age?  \n",
       "1                                       What is your age?  \n",
       "2                                       What is your age?  \n",
       "3                                       What is your age?  \n",
       "4                                       What is your age?  \n",
       "...                                                   ...  \n",
       "236893  Which of the following best describes your wor...  \n",
       "236894  Which of the following best describes your wor...  \n",
       "236895  Which of the following best describes your wor...  \n",
       "236896  Which of the following best describes your wor...  \n",
       "236897  Which of the following best describes your wor...  \n",
       "\n",
       "[236898 rows x 5 columns]"
      ]
     },
     "execution_count": 4,
     "metadata": {},
     "output_type": "execute_result"
    }
   ],
   "source": [
    "df"
   ]
  },
  {
   "cell_type": "code",
   "execution_count": 5,
   "metadata": {},
   "outputs": [
    {
     "data": {
      "text/plain": [
       "pandas.core.series.Series"
      ]
     },
     "execution_count": 5,
     "metadata": {},
     "output_type": "execute_result"
    }
   ],
   "source": [
    "gender = df.loc[(df.questiontext == 'What is your gender?')]\n",
    "gender = gender.AnswerText\n",
    "type(gender)"
   ]
  },
  {
   "cell_type": "code",
   "execution_count": 15,
   "metadata": {},
   "outputs": [
    {
     "data": {
      "text/plain": [
       "Male                           2830\n",
       "Female                          914\n",
       "male                            212\n",
       "female                          110\n",
       "-1                               24\n",
       "                               ... \n",
       "genderqueer                       1\n",
       "none of your business             1\n",
       "nb masculine                      1\n",
       "male 9:1 female, roughly          1\n",
       "Non-binary and gender fluid       1\n",
       "Name: AnswerText, Length: 101, dtype: int64"
      ]
     },
     "execution_count": 15,
     "metadata": {},
     "output_type": "execute_result"
    }
   ],
   "source": [
    "counts = pd.Series(gender).value_counts()\n",
    "counts"
   ]
  },
  {
   "cell_type": "code",
   "execution_count": 9,
   "metadata": {},
   "outputs": [
    {
     "data": {
      "text/plain": [
       "Counter({'Female': 914,\n",
       "         'Male': 2830,\n",
       "         'Male-ish': 2,\n",
       "         'Trans-female': 1,\n",
       "         'something kinda male?': 1,\n",
       "         'queer/she/they': 1,\n",
       "         'non-binary': 6,\n",
       "         'Nah': 1,\n",
       "         'All': 1,\n",
       "         'Enby': 2,\n",
       "         'fluid': 1,\n",
       "         'Genderqueer': 4,\n",
       "         'Androgyne': 1,\n",
       "         'Agender': 4,\n",
       "         'Guy (-ish) ^_^': 1,\n",
       "         'male leaning androgynous': 1,\n",
       "         'Trans woman': 2,\n",
       "         'Neuter': 1,\n",
       "         'Female (trans)': 2,\n",
       "         'queer': 1,\n",
       "         'A little about you': 1,\n",
       "         'p': 1,\n",
       "         'ostensibly male, unsure what that really means': 1,\n",
       "         'Bigender': 1,\n",
       "         'Female assigned at birth': 1,\n",
       "         'fm': 1,\n",
       "         'Transitioned, M2F': 1,\n",
       "         'Genderfluid (born female)': 1,\n",
       "         'Other/Transfeminine': 1,\n",
       "         'Female or Multi-Gender Femme': 1,\n",
       "         'Androgynous': 1,\n",
       "         'male 9:1 female, roughly': 1,\n",
       "         '-1': 24,\n",
       "         'Other': 2,\n",
       "         'nb masculine': 1,\n",
       "         'none of your business': 1,\n",
       "         'genderqueer': 1,\n",
       "         'Human': 1,\n",
       "         'Genderfluid': 3,\n",
       "         'genderqueer woman': 1,\n",
       "         'mtf': 1,\n",
       "         'Queer': 1,\n",
       "         'Fluid': 1,\n",
       "         'Male/genderqueer': 1,\n",
       "         'Nonbinary': 8,\n",
       "         'human': 1,\n",
       "         'Unicorn': 1,\n",
       "         'Male (trans, FtM)': 1,\n",
       "         'Genderflux demi-girl': 1,\n",
       "         'female-bodied; no feelings about gender': 1,\n",
       "         'AFAB': 1,\n",
       "         'Transgender woman': 1,\n",
       "         'male': 212,\n",
       "         'female': 110,\n",
       "         'male/androgynous': 1,\n",
       "         'uhhhhhhhhh fem genderqueer?': 1,\n",
       "         'God King of the Valajar': 1,\n",
       "         'Non-binary': 3,\n",
       "         'Agender/genderfluid': 1,\n",
       "         'sometimes': 1,\n",
       "         'Woman-identified': 1,\n",
       "         'Contextual': 1,\n",
       "         'Non binary': 2,\n",
       "         'Genderqueer demigirl': 1,\n",
       "         'Genderqueer/non-binary': 1,\n",
       "         'nonbinary': 1,\n",
       "         'Female-ish': 1,\n",
       "         '\\\\-': 1,\n",
       "         'trans woman': 1,\n",
       "         'Transfeminine': 1,\n",
       "         'None': 3,\n",
       "         'Ostensibly Male': 1,\n",
       "         'MALE': 1,\n",
       "         'Male (or female, or both)': 1,\n",
       "         'Trans man': 2,\n",
       "         'transgender': 1,\n",
       "         'non binary': 1,\n",
       "         'Female/gender non-binary.': 1,\n",
       "         'genderfluid': 1,\n",
       "         'Demiguy': 1,\n",
       "         'none': 1,\n",
       "         'Trans female': 1,\n",
       "         'She/her/they/them': 1,\n",
       "         'SWM': 1,\n",
       "         'NB': 1,\n",
       "         'Nonbinary/femme': 1,\n",
       "         'gender non-conforming woman': 1,\n",
       "         'Masculine': 1,\n",
       "         'Cishet male': 1,\n",
       "         'Female-identified': 1,\n",
       "         'agender': 2,\n",
       "         'Questioning': 1,\n",
       "         'I have a penis': 1,\n",
       "         'rr': 1,\n",
       "         'Agender trans woman': 1,\n",
       "         'femmina': 1,\n",
       "         '43': 1,\n",
       "         'masculino': 1,\n",
       "         'I am a Wookie': 1,\n",
       "         'Trans non-binary/genderfluid': 1,\n",
       "         'Non-binary and gender fluid': 1})"
      ]
     },
     "execution_count": 9,
     "metadata": {},
     "output_type": "execute_result"
    }
   ],
   "source": [
    "from collections import Counter\n",
    "contador = Counter(gender)\n",
    "contador"
   ]
  },
  {
   "cell_type": "code",
   "execution_count": 57,
   "metadata": {},
   "outputs": [],
   "source": [
    "#gender = df.loc[(df.questiontext == 'What is your gender?')]\n",
    "#dfs = dict(tuple(gender.groupby('AnswerText')))"
   ]
  },
  {
   "cell_type": "code",
   "execution_count": 32,
   "metadata": {},
   "outputs": [
    {
     "data": {
      "text/plain": [
       "2830"
      ]
     },
     "execution_count": 32,
     "metadata": {},
     "output_type": "execute_result"
    }
   ],
   "source": [
    "count_male = pd.Series(gender).value_counts()['Male']\n",
    "count_male"
   ]
  },
  {
   "cell_type": "code",
   "execution_count": 26,
   "metadata": {},
   "outputs": [
    {
     "ename": "KeyError",
     "evalue": "'key of type tuple not found and not a MultiIndex'",
     "output_type": "error",
     "traceback": [
      "\u001b[1;31m---------------------------------------------------------------------------\u001b[0m",
      "\u001b[1;31mKeyError\u001b[0m                                  Traceback (most recent call last)",
      "\u001b[1;32md:\\Projetos Programação\\Data-Science\\Outros Estudos\\Saúde\\Mental health IT\\Analise saúde mental TI.ipynb Célula: 10\u001b[0m in \u001b[0;36m<cell line: 1>\u001b[1;34m()\u001b[0m\n\u001b[1;32m----> <a href='vscode-notebook-cell:/d%3A/Projetos%20Programa%C3%A7%C3%A3o/Data-Science/Outros%20Estudos/Sa%C3%BAde/Mental%20health%20IT/Analise%20sa%C3%BAde%20mental%20TI.ipynb#X13sZmlsZQ%3D%3D?line=0'>1</a>\u001b[0m c \u001b[39m=\u001b[39m counts[\u001b[39m'\u001b[39;49m\u001b[39mmale\u001b[39;49m\u001b[39m'\u001b[39;49m,\u001b[39m'\u001b[39;49m\u001b[39mfemale\u001b[39;49m\u001b[39m'\u001b[39;49m]\n\u001b[0;32m      <a href='vscode-notebook-cell:/d%3A/Projetos%20Programa%C3%A7%C3%A3o/Data-Science/Outros%20Estudos/Sa%C3%BAde/Mental%20health%20IT/Analise%20sa%C3%BAde%20mental%20TI.ipynb#X13sZmlsZQ%3D%3D?line=1'>2</a>\u001b[0m female \u001b[39m=\u001b[39m counts\u001b[39m.\u001b[39mfemale\n\u001b[0;32m      <a href='vscode-notebook-cell:/d%3A/Projetos%20Programa%C3%A7%C3%A3o/Data-Science/Outros%20Estudos/Sa%C3%BAde/Mental%20health%20IT/Analise%20sa%C3%BAde%20mental%20TI.ipynb#X13sZmlsZQ%3D%3D?line=2'>3</a>\u001b[0m total \u001b[39m=\u001b[39m female \u001b[39m+\u001b[39m male\n",
      "File \u001b[1;32mc:\\Users\\thali\\anaconda3\\lib\\site-packages\\pandas\\core\\series.py:984\u001b[0m, in \u001b[0;36mSeries.__getitem__\u001b[1;34m(self, key)\u001b[0m\n\u001b[0;32m    981\u001b[0m     key \u001b[39m=\u001b[39m np\u001b[39m.\u001b[39masarray(key, dtype\u001b[39m=\u001b[39m\u001b[39mbool\u001b[39m)\n\u001b[0;32m    982\u001b[0m     \u001b[39mreturn\u001b[39;00m \u001b[39mself\u001b[39m\u001b[39m.\u001b[39m_get_values(key)\n\u001b[1;32m--> 984\u001b[0m \u001b[39mreturn\u001b[39;00m \u001b[39mself\u001b[39;49m\u001b[39m.\u001b[39;49m_get_with(key)\n",
      "File \u001b[1;32mc:\\Users\\thali\\anaconda3\\lib\\site-packages\\pandas\\core\\series.py:999\u001b[0m, in \u001b[0;36mSeries._get_with\u001b[1;34m(self, key)\u001b[0m\n\u001b[0;32m    994\u001b[0m     \u001b[39mraise\u001b[39;00m \u001b[39mTypeError\u001b[39;00m(\n\u001b[0;32m    995\u001b[0m         \u001b[39m\"\u001b[39m\u001b[39mIndexing a Series with DataFrame is not \u001b[39m\u001b[39m\"\u001b[39m\n\u001b[0;32m    996\u001b[0m         \u001b[39m\"\u001b[39m\u001b[39msupported, use the appropriate DataFrame column\u001b[39m\u001b[39m\"\u001b[39m\n\u001b[0;32m    997\u001b[0m     )\n\u001b[0;32m    998\u001b[0m \u001b[39melif\u001b[39;00m \u001b[39misinstance\u001b[39m(key, \u001b[39mtuple\u001b[39m):\n\u001b[1;32m--> 999\u001b[0m     \u001b[39mreturn\u001b[39;00m \u001b[39mself\u001b[39;49m\u001b[39m.\u001b[39;49m_get_values_tuple(key)\n\u001b[0;32m   1001\u001b[0m \u001b[39melif\u001b[39;00m \u001b[39mnot\u001b[39;00m is_list_like(key):\n\u001b[0;32m   1002\u001b[0m     \u001b[39m# e.g. scalars that aren't recognized by lib.is_scalar, GH#32684\u001b[39;00m\n\u001b[0;32m   1003\u001b[0m     \u001b[39mreturn\u001b[39;00m \u001b[39mself\u001b[39m\u001b[39m.\u001b[39mloc[key]\n",
      "File \u001b[1;32mc:\\Users\\thali\\anaconda3\\lib\\site-packages\\pandas\\core\\series.py:1034\u001b[0m, in \u001b[0;36mSeries._get_values_tuple\u001b[1;34m(self, key)\u001b[0m\n\u001b[0;32m   1031\u001b[0m     \u001b[39mreturn\u001b[39;00m result\n\u001b[0;32m   1033\u001b[0m \u001b[39mif\u001b[39;00m \u001b[39mnot\u001b[39;00m \u001b[39misinstance\u001b[39m(\u001b[39mself\u001b[39m\u001b[39m.\u001b[39mindex, MultiIndex):\n\u001b[1;32m-> 1034\u001b[0m     \u001b[39mraise\u001b[39;00m \u001b[39mKeyError\u001b[39;00m(\u001b[39m\"\u001b[39m\u001b[39mkey of type tuple not found and not a MultiIndex\u001b[39m\u001b[39m\"\u001b[39m)\n\u001b[0;32m   1036\u001b[0m \u001b[39m# If key is contained, would have returned by now\u001b[39;00m\n\u001b[0;32m   1037\u001b[0m indexer, new_index \u001b[39m=\u001b[39m \u001b[39mself\u001b[39m\u001b[39m.\u001b[39mindex\u001b[39m.\u001b[39mget_loc_level(key)\n",
      "\u001b[1;31mKeyError\u001b[0m: 'key of type tuple not found and not a MultiIndex'"
     ]
    }
   ],
   "source": [
    "male = counts.male\n",
    "female = counts.female\n",
    "total = female + male"
   ]
  },
  {
   "cell_type": "code",
   "execution_count": 23,
   "metadata": {},
   "outputs": [
    {
     "data": {
      "image/png": "[encoded data removed]",
      "text/plain": [
       "<Figure size 432x288 with 1 Axes>"
      ]
     },
     "metadata": {
      "needs_background": "light"
     },
     "output_type": "display_data"
    }
   ],
   "source": [
    "import matplotlib.pyplot as plt\n",
    "\n",
    "fig, ax = plt.subplots()\n",
    "\n",
    "ax.bar(y, x, width=1, edgecolor=\"white\", linewidth=0.7)\n",
    "\n",
    "\n",
    "plt.show()"
   ]
  }
 ],
 "metadata": {
  "kernelspec": {
   "display_name": "Python 3.9.12 ('base')",
   "language": "python",
   "name": "python3"
  },
  "language_info": {
   "codemirror_mode": {
    "name": "ipython",
    "version": 3
   },
   "file_extension": ".py",
   "mimetype": "text/x-python",
   "name": "python",
   "nbconvert_exporter": "python",
   "pygments_lexer": "ipython3",
   "version": "3.9.12"
  },
  "orig_nbformat": 4,
  "vscode": {
   "interpreter": {
    "hash": "5c4e6a5823fe9a4cb437ffe73176ff7ae740c2c60e10fbc3628d85d4e9ab9fdc"
   }
  }
 },
 "nbformat": 4,
 "nbformat_minor": 2
}
