{
 "cells": [
  {
   "cell_type": "code",
   "execution_count": 5,
   "metadata": {},
   "outputs": [
    {
     "data": {
      "image/png": "[encoded data removed]",
      "text/plain": [
       "<Figure size 432x288 with 1 Axes>"
      ]
     },
     "metadata": {
      "needs_background": "light"
     },
     "output_type": "display_data"
    }
   ],
   "source": [
    "from collections import Counter\n",
    "import matplotlib.pyplot as plt\n",
    "\n",
    "num_friends = [100, 49, 41, 40, 25]\n",
    "\n",
    "friends_counts = Counter(num_friends)\n",
    "\n",
    "xs = range(101) # eixo x, maior número 101\n",
    "ys = [friends_counts[x] for x in xs] # eixo y, número de amigos \n",
    "plt.bar(xs, ys) # barras \n",
    "plt.axis([0, 101, 0, 25])\n",
    "plt.title(\"Histograma número de amigos\")\n",
    "plt.xlabel(\"nº de amigos\")\n",
    "plt.ylabel(\"nº de pessoas\")\n",
    "plt.show()"
   ]
  },
  {
   "cell_type": "code",
   "execution_count": 4,
   "metadata": {},
   "outputs": [
    {
     "data": {
      "text/plain": [
       "Counter({100: 1, 49: 1, 41: 1, 40: 1, 25: 1})"
      ]
     },
     "execution_count": 4,
     "metadata": {},
     "output_type": "execute_result"
    }
   ],
   "source": [
    "friends_count"
   ]
  },
  {
   "cell_type": "code",
   "execution_count": null,
   "metadata": {},
   "outputs": [],
   "source": []
  }
 ],
 "metadata": {
  "kernelspec": {
   "display_name": "Python 3.9.12 ('base')",
   "language": "python",
   "name": "python3"
  },
  "language_info": {
   "codemirror_mode": {
    "name": "ipython",
    "version": 3
   },
   "file_extension": ".py",
   "mimetype": "text/x-python",
   "name": "python",
   "nbconvert_exporter": "python",
   "pygments_lexer": "ipython3",
   "version": "3.9.12"
  },
  "orig_nbformat": 4,
  "vscode": {
   "interpreter": {
    "hash": "5c4e6a5823fe9a4cb437ffe73176ff7ae740c2c60e10fbc3628d85d4e9ab9fdc"
   }
  }
 },
 "nbformat": 4,
 "nbformat_minor": 2
}
